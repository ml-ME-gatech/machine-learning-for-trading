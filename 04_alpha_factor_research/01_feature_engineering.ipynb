{
 "cells": [
  {
   "cell_type": "markdown",
   "metadata": {},
   "source": [
    "# How to transform data into factors"
   ]
  },
  {
   "cell_type": "markdown",
   "metadata": {},
   "source": [
    "Based on a conceptual understanding of key factor categories, their rationale and popular metrics, a key task is to identify new factors that may better capture the risks embodied by the return drivers laid out previously, or to find new ones. \n",
    "\n",
    "In either case, it will be important to compare the performance of innovative factors to that of known factors to identify incremental signal gains."
   ]
  },
  {
   "cell_type": "markdown",
   "metadata": {},
   "source": [
    "We create the dataset here and store it in our [data](../data) folder to facilitate reuse in later chapters."
   ]
  },
  {
   "cell_type": "markdown",
   "metadata": {},
   "source": [
    "## Imports & Settings"
   ]
  },
  {
   "cell_type": "code",
   "execution_count": 1,
   "metadata": {
    "ExecuteTime": {
     "end_time": "2021-04-15T19:41:03.495850Z",
     "start_time": "2021-04-15T19:41:03.491885Z"
    }
   },
   "outputs": [],
   "source": [
    "import warnings\n",
    "warnings.filterwarnings('ignore')"
   ]
  },
  {
   "cell_type": "code",
   "execution_count": 2,
   "metadata": {
    "ExecuteTime": {
     "end_time": "2021-04-15T19:41:04.376337Z",
     "start_time": "2021-04-15T19:41:03.779408Z"
    }
   },
   "outputs": [],
   "source": [
    "%matplotlib inline\n",
    "\n",
    "from datetime import datetime\n",
    "import pandas as pd\n",
    "import pandas_datareader.data as web\n",
    "\n",
    "# replaces pyfinance.ols.PandasRollingOLS (no longer maintained)\n",
    "from statsmodels.regression.rolling import RollingOLS\n",
    "import statsmodels.api as sm\n",
    "\n",
    "import matplotlib.pyplot as plt\n",
    "import seaborn as sns"
   ]
  },
  {
   "cell_type": "code",
   "execution_count": 3,
   "metadata": {
    "ExecuteTime": {
     "end_time": "2021-04-15T19:41:04.513447Z",
     "start_time": "2021-04-15T19:41:04.510049Z"
    }
   },
   "outputs": [],
   "source": [
    "sns.set_style('whitegrid')\n",
    "idx = pd.IndexSlice"
   ]
  },
  {
   "cell_type": "markdown",
   "metadata": {},
   "source": [
    "## Get Data"
   ]
  },
  {
   "cell_type": "markdown",
   "metadata": {},
   "source": [
    "The `assets.h5` store can be generated using the the notebook [create_datasets](../data/create_datasets.ipynb) in the [data](../data) directory in the root directory of this repo for instruction to download the following dataset."
   ]
  },
  {
   "cell_type": "markdown",
   "metadata": {},
   "source": [
    "We load the Quandl stock price datasets covering the US equity markets 2000-18 using `pd.IndexSlice` to perform a slice operation on the `pd.MultiIndex`, select the adjusted close price and unpivot the column to convert the DataFrame to wide format with tickers in the columns and timestamps in the rows:"
   ]
  },
  {
   "cell_type": "markdown",
   "metadata": {},
   "source": [
    "Set data store location:"
   ]
  },
  {
   "cell_type": "code",
   "execution_count": 4,
   "metadata": {
    "ExecuteTime": {
     "end_time": "2021-04-15T19:42:15.894855Z",
     "start_time": "2021-04-15T19:42:15.892460Z"
    }
   },
   "outputs": [],
   "source": [
    "DATA_STORE = '../data/assets.h5'"
   ]
  },
  {
   "cell_type": "code",
   "execution_count": 5,
   "metadata": {
    "ExecuteTime": {
     "end_time": "2021-04-15T19:42:15.908751Z",
     "start_time": "2021-04-15T19:42:15.898676Z"
    }
   },
   "outputs": [],
   "source": [
    "START = 2000\n",
    "END = 2018"
   ]
  },
  {
   "cell_type": "code",
   "execution_count": 6,
   "metadata": {
    "ExecuteTime": {
     "end_time": "2021-04-15T19:42:22.923496Z",
     "start_time": "2021-04-15T19:42:15.909916Z"
    }
   },
   "outputs": [],
   "source": [
    "with pd.HDFStore(DATA_STORE) as store:\n",
    "    prices = (store['quandl/wiki/prices']\n",
    "              .loc[idx[str(START):str(END), :], 'adj_close']\n",
    "              .unstack('ticker'))\n",
    "    stocks = store['us_equities/stocks'].loc[:, ['marketcap', 'ipoyear', 'sector']]"
   ]
  },
  {
   "cell_type": "code",
   "execution_count": 7,
   "metadata": {
    "ExecuteTime": {
     "end_time": "2021-04-15T19:42:23.001008Z",
     "start_time": "2021-04-15T19:42:22.924508Z"
    }
   },
   "outputs": [
    {
     "name": "stdout",
     "output_type": "stream",
     "text": [
      "<class 'pandas.core.frame.DataFrame'>\n",
      "DatetimeIndex: 4706 entries, 2000-01-03 to 2018-03-27\n",
      "Columns: 3199 entries, A to ZUMZ\n",
      "dtypes: float64(3199)\n",
      "memory usage: 114.9 MB\n"
     ]
    }
   ],
   "source": [
    "prices.info()"
   ]
  },
  {
   "cell_type": "code",
   "execution_count": 8,
   "metadata": {
    "ExecuteTime": {
     "end_time": "2021-04-15T19:42:23.008893Z",
     "start_time": "2021-04-15T19:42:23.002047Z"
    }
   },
   "outputs": [
    {
     "name": "stdout",
     "output_type": "stream",
     "text": [
      "<class 'pandas.core.frame.DataFrame'>\n",
      "Index: 6834 entries, PIH to ZYME\n",
      "Data columns (total 3 columns):\n",
      " #   Column     Non-Null Count  Dtype  \n",
      "---  ------     --------------  -----  \n",
      " 0   marketcap  5766 non-null   float64\n",
      " 1   ipoyear    3038 non-null   float64\n",
      " 2   sector     5288 non-null   object \n",
      "dtypes: float64(2), object(1)\n",
      "memory usage: 213.6+ KB\n"
     ]
    }
   ],
   "source": [
    "stocks.info()"
   ]
  },
  {
   "cell_type": "markdown",
   "metadata": {},
   "source": [
    "### Keep data with stock info"
   ]
  },
  {
   "cell_type": "markdown",
   "metadata": {},
   "source": [
    "Remove `stocks` duplicates and align index names for later joining."
   ]
  },
  {
   "cell_type": "code",
   "execution_count": 9,
   "metadata": {
    "ExecuteTime": {
     "end_time": "2021-04-15T19:42:23.018069Z",
     "start_time": "2021-04-15T19:42:23.009732Z"
    }
   },
   "outputs": [],
   "source": [
    "stocks = stocks[~stocks.index.duplicated()]\n",
    "stocks.index.name = 'ticker'"
   ]
  },
  {
   "cell_type": "markdown",
   "metadata": {},
   "source": [
    "Get tickers with both price information and metdata"
   ]
  },
  {
   "cell_type": "code",
   "execution_count": 10,
   "metadata": {
    "ExecuteTime": {
     "end_time": "2021-04-15T19:42:23.027293Z",
     "start_time": "2021-04-15T19:42:23.018895Z"
    }
   },
   "outputs": [],
   "source": [
    "shared = prices.columns.intersection(stocks.index)"
   ]
  },
  {
   "cell_type": "code",
   "execution_count": 11,
   "metadata": {
    "ExecuteTime": {
     "end_time": "2021-04-15T19:42:23.043241Z",
     "start_time": "2021-04-15T19:42:23.028490Z"
    }
   },
   "outputs": [
    {
     "name": "stdout",
     "output_type": "stream",
     "text": [
      "<class 'pandas.core.frame.DataFrame'>\n",
      "Index: 2412 entries, A to ZUMZ\n",
      "Data columns (total 3 columns):\n",
      " #   Column     Non-Null Count  Dtype  \n",
      "---  ------     --------------  -----  \n",
      " 0   marketcap  2407 non-null   float64\n",
      " 1   ipoyear    1065 non-null   float64\n",
      " 2   sector     2372 non-null   object \n",
      "dtypes: float64(2), object(1)\n",
      "memory usage: 75.4+ KB\n"
     ]
    }
   ],
   "source": [
    "stocks = stocks.loc[shared, :]\n",
    "stocks.info()"
   ]
  },
  {
   "cell_type": "code",
   "execution_count": 12,
   "metadata": {
    "ExecuteTime": {
     "end_time": "2021-04-15T19:42:23.137083Z",
     "start_time": "2021-04-15T19:42:23.044635Z"
    },
    "scrolled": true
   },
   "outputs": [
    {
     "name": "stdout",
     "output_type": "stream",
     "text": [
      "<class 'pandas.core.frame.DataFrame'>\n",
      "DatetimeIndex: 4706 entries, 2000-01-03 to 2018-03-27\n",
      "Columns: 2412 entries, A to ZUMZ\n",
      "dtypes: float64(2412)\n",
      "memory usage: 86.6 MB\n"
     ]
    }
   ],
   "source": [
    "prices = prices.loc[:, shared]\n",
    "prices.info()"
   ]
  },
  {
   "cell_type": "code",
   "execution_count": 13,
   "metadata": {
    "ExecuteTime": {
     "end_time": "2021-04-15T19:42:23.140088Z",
     "start_time": "2021-04-15T19:42:23.138243Z"
    }
   },
   "outputs": [],
   "source": [
    "assert prices.shape[1] == stocks.shape[0]"
   ]
  },
  {
   "cell_type": "markdown",
   "metadata": {},
   "source": [
    "## Create monthly return series"
   ]
  },
  {
   "cell_type": "markdown",
   "metadata": {},
   "source": [
    "To reduce training time and experiment with strategies for longer time horizons, we convert the business-daily data to month-end frequency using the available adjusted close price:"
   ]
  },
  {
   "cell_type": "code",
   "execution_count": 14,
   "metadata": {
    "ExecuteTime": {
     "end_time": "2021-04-15T19:42:23.170928Z",
     "start_time": "2021-04-15T19:42:23.141153Z"
    }
   },
   "outputs": [],
   "source": [
    "monthly_prices = prices.resample('ME').last()"
   ]
  },
  {
   "cell_type": "markdown",
   "metadata": {},
   "source": [
    "To capture time series dynamics that reflect, for example, momentum patterns, we compute historical returns using the method `.pct_change(n_periods)`, that is, returns over various monthly periods as identified by lags.\n",
    "\n",
    "We then convert the wide result back to long format with the `.stack()` method, use `.pipe()` to apply the `.clip()` method to the resulting `DataFrame`, and winsorize returns at the [1%, 99%] levels; that is, we cap outliers at these percentiles.\n",
    "\n",
    "Finally, we normalize returns using the geometric average. After using `.swaplevel()` to change the order of the `MultiIndex` levels, we obtain compounded monthly returns for six periods ranging from 1 to 12 months:"
   ]
  },
  {
   "cell_type": "code",
   "execution_count": 15,
   "metadata": {
    "ExecuteTime": {
     "end_time": "2021-04-15T19:42:23.275075Z",
     "start_time": "2021-04-15T19:42:23.171959Z"
    }
   },
   "outputs": [
    {
     "name": "stdout",
     "output_type": "stream",
     "text": [
      "<class 'pandas.core.frame.DataFrame'>\n",
      "DatetimeIndex: 219 entries, 2000-01-31 to 2018-03-31\n",
      "Freq: ME\n",
      "Columns: 2412 entries, A to ZUMZ\n",
      "dtypes: float64(2412)\n",
      "memory usage: 4.0 MB\n"
     ]
    }
   ],
   "source": [
    "monthly_prices.info()"
   ]
  },
  {
   "cell_type": "code",
   "execution_count": 16,
   "metadata": {
    "ExecuteTime": {
     "end_time": "2021-04-15T19:42:27.496502Z",
     "start_time": "2021-04-15T19:42:23.276017Z"
    }
   },
   "outputs": [
    {
     "name": "stdout",
     "output_type": "stream",
     "text": [
      "<class 'pandas.core.frame.DataFrame'>\n",
      "MultiIndex: 399525 entries, ('A', Timestamp('2001-01-31 00:00:00')) to ('ZUMZ', Timestamp('2018-03-31 00:00:00'))\n",
      "Data columns (total 6 columns):\n",
      " #   Column      Non-Null Count   Dtype  \n",
      "---  ------      --------------   -----  \n",
      " 0   return_1m   399525 non-null  float64\n",
      " 1   return_2m   399525 non-null  float64\n",
      " 2   return_3m   399525 non-null  float64\n",
      " 3   return_6m   399525 non-null  float64\n",
      " 4   return_9m   399525 non-null  float64\n",
      " 5   return_12m  399525 non-null  float64\n",
      "dtypes: float64(6)\n",
      "memory usage: 19.9+ MB\n"
     ]
    }
   ],
   "source": [
    "outlier_cutoff = 0.01\n",
    "data = pd.DataFrame()\n",
    "lags = [1, 2, 3, 6, 9, 12]\n",
    "for lag in lags:\n",
    "    data[f'return_{lag}m'] = (monthly_prices\n",
    "                           .pct_change(lag)\n",
    "                           .stack()\n",
    "                           .pipe(lambda x: x.clip(lower=x.quantile(outlier_cutoff),\n",
    "                                                  upper=x.quantile(1-outlier_cutoff)))\n",
    "                           .add(1)\n",
    "                           .pow(1/lag)\n",
    "                           .sub(1)\n",
    "                           )\n",
    "data = data.swaplevel().dropna()\n",
    "data.info()"
   ]
  },
  {
   "cell_type": "markdown",
   "metadata": {},
   "source": [
    "## Drop stocks with less than 10 yrs of returns"
   ]
  },
  {
   "cell_type": "code",
   "execution_count": 17,
   "metadata": {
    "ExecuteTime": {
     "end_time": "2021-04-15T19:42:32.693861Z",
     "start_time": "2021-04-15T19:42:27.497409Z"
    }
   },
   "outputs": [
    {
     "name": "stdout",
     "output_type": "stream",
     "text": [
      "<class 'pandas.core.frame.DataFrame'>\n",
      "MultiIndex: 360752 entries, ('A', Timestamp('2001-01-31 00:00:00')) to ('ZUMZ', Timestamp('2018-03-31 00:00:00'))\n",
      "Data columns (total 6 columns):\n",
      " #   Column      Non-Null Count   Dtype  \n",
      "---  ------      --------------   -----  \n",
      " 0   return_1m   360752 non-null  float64\n",
      " 1   return_2m   360752 non-null  float64\n",
      " 2   return_3m   360752 non-null  float64\n",
      " 3   return_6m   360752 non-null  float64\n",
      " 4   return_9m   360752 non-null  float64\n",
      " 5   return_12m  360752 non-null  float64\n",
      "dtypes: float64(6)\n",
      "memory usage: 18.0+ MB\n"
     ]
    }
   ],
   "source": [
    "min_obs = 120\n",
    "nobs = data.groupby(level='ticker').size()\n",
    "keep = nobs[nobs>min_obs].index\n",
    "\n",
    "data = data.loc[idx[keep,:], :]\n",
    "data.info()"
   ]
  },
  {
   "cell_type": "code",
   "execution_count": 18,
   "metadata": {
    "ExecuteTime": {
     "end_time": "2021-04-15T19:42:32.759315Z",
     "start_time": "2021-04-15T19:42:32.695113Z"
    }
   },
   "outputs": [
    {
     "data": {
      "text/html": [
       "<div>\n",
       "<style scoped>\n",
       "    .dataframe tbody tr th:only-of-type {\n",
       "        vertical-align: middle;\n",
       "    }\n",
       "\n",
       "    .dataframe tbody tr th {\n",
       "        vertical-align: top;\n",
       "    }\n",
       "\n",
       "    .dataframe thead th {\n",
       "        text-align: right;\n",
       "    }\n",
       "</style>\n",
       "<table border=\"1\" class=\"dataframe\">\n",
       "  <thead>\n",
       "    <tr style=\"text-align: right;\">\n",
       "      <th></th>\n",
       "      <th>return_1m</th>\n",
       "      <th>return_2m</th>\n",
       "      <th>return_3m</th>\n",
       "      <th>return_6m</th>\n",
       "      <th>return_9m</th>\n",
       "      <th>return_12m</th>\n",
       "    </tr>\n",
       "  </thead>\n",
       "  <tbody>\n",
       "    <tr>\n",
       "      <th>count</th>\n",
       "      <td>360752.000000</td>\n",
       "      <td>360752.000000</td>\n",
       "      <td>360752.000000</td>\n",
       "      <td>360752.000000</td>\n",
       "      <td>360752.000000</td>\n",
       "      <td>360752.000000</td>\n",
       "    </tr>\n",
       "    <tr>\n",
       "      <th>mean</th>\n",
       "      <td>0.012255</td>\n",
       "      <td>0.009213</td>\n",
       "      <td>0.008181</td>\n",
       "      <td>0.007025</td>\n",
       "      <td>0.006552</td>\n",
       "      <td>0.006296</td>\n",
       "    </tr>\n",
       "    <tr>\n",
       "      <th>std</th>\n",
       "      <td>0.114236</td>\n",
       "      <td>0.081170</td>\n",
       "      <td>0.066584</td>\n",
       "      <td>0.048474</td>\n",
       "      <td>0.039897</td>\n",
       "      <td>0.034792</td>\n",
       "    </tr>\n",
       "    <tr>\n",
       "      <th>min</th>\n",
       "      <td>-0.329564</td>\n",
       "      <td>-0.255452</td>\n",
       "      <td>-0.214783</td>\n",
       "      <td>-0.162063</td>\n",
       "      <td>-0.131996</td>\n",
       "      <td>-0.114283</td>\n",
       "    </tr>\n",
       "    <tr>\n",
       "      <th>25%</th>\n",
       "      <td>-0.046464</td>\n",
       "      <td>-0.030716</td>\n",
       "      <td>-0.023961</td>\n",
       "      <td>-0.014922</td>\n",
       "      <td>-0.011182</td>\n",
       "      <td>-0.009064</td>\n",
       "    </tr>\n",
       "    <tr>\n",
       "      <th>50%</th>\n",
       "      <td>0.009448</td>\n",
       "      <td>0.009748</td>\n",
       "      <td>0.009744</td>\n",
       "      <td>0.009378</td>\n",
       "      <td>0.008982</td>\n",
       "      <td>0.008726</td>\n",
       "    </tr>\n",
       "    <tr>\n",
       "      <th>75%</th>\n",
       "      <td>0.066000</td>\n",
       "      <td>0.049249</td>\n",
       "      <td>0.042069</td>\n",
       "      <td>0.031971</td>\n",
       "      <td>0.027183</td>\n",
       "      <td>0.024615</td>\n",
       "    </tr>\n",
       "    <tr>\n",
       "      <th>max</th>\n",
       "      <td>0.430943</td>\n",
       "      <td>0.281819</td>\n",
       "      <td>0.221789</td>\n",
       "      <td>0.154555</td>\n",
       "      <td>0.124718</td>\n",
       "      <td>0.106371</td>\n",
       "    </tr>\n",
       "  </tbody>\n",
       "</table>\n",
       "</div>"
      ],
      "text/plain": [
       "           return_1m      return_2m      return_3m      return_6m  \\\n",
       "count  360752.000000  360752.000000  360752.000000  360752.000000   \n",
       "mean        0.012255       0.009213       0.008181       0.007025   \n",
       "std         0.114236       0.081170       0.066584       0.048474   \n",
       "min        -0.329564      -0.255452      -0.214783      -0.162063   \n",
       "25%        -0.046464      -0.030716      -0.023961      -0.014922   \n",
       "50%         0.009448       0.009748       0.009744       0.009378   \n",
       "75%         0.066000       0.049249       0.042069       0.031971   \n",
       "max         0.430943       0.281819       0.221789       0.154555   \n",
       "\n",
       "           return_9m     return_12m  \n",
       "count  360752.000000  360752.000000  \n",
       "mean        0.006552       0.006296  \n",
       "std         0.039897       0.034792  \n",
       "min        -0.131996      -0.114283  \n",
       "25%        -0.011182      -0.009064  \n",
       "50%         0.008982       0.008726  \n",
       "75%         0.027183       0.024615  \n",
       "max         0.124718       0.106371  "
      ]
     },
     "execution_count": 18,
     "metadata": {},
     "output_type": "execute_result"
    }
   ],
   "source": [
    "data.describe()"
   ]
  },
  {
   "cell_type": "code",
   "execution_count": 19,
   "metadata": {
    "ExecuteTime": {
     "end_time": "2021-04-15T19:42:33.428516Z",
     "start_time": "2021-04-15T19:42:32.760414Z"
    }
   },
   "outputs": [
    {
     "data": {
      "image/png": "[encoded data removed]",
      "text/plain": [
       "<Figure size 1000x1000 with 4 Axes>"
      ]
     },
     "metadata": {},
     "output_type": "display_data"
    }
   ],
   "source": [
    "# cmap = sns.diverging_palette(10, 220, as_cmap=True)\n",
    "sns.clustermap(data.corr('spearman'), annot=True, center=0, cmap='Blues')"
   ]
  },
  {
   "cell_type": "markdown",
   "metadata": {},
   "source": [
    "We are left with 1,670 tickers."
   ]
  },
  {
   "cell_type": "code",
   "execution_count": 18,
   "metadata": {
    "ExecuteTime": {
     "end_time": "2021-04-15T19:42:33.464342Z",
     "start_time": "2021-04-15T19:42:33.429978Z"
    }
   },
   "outputs": [
    {
     "data": {
      "text/plain": [
       "1838"
      ]
     },
     "execution_count": 18,
     "metadata": {},
     "output_type": "execute_result"
    }
   ],
   "source": [
    "data.index.get_level_values('ticker').nunique()"
   ]
  },
  {
   "cell_type": "markdown",
   "metadata": {},
   "source": [
    "## Rolling Factor Betas"
   ]
  },
  {
   "cell_type": "markdown",
   "metadata": {},
   "source": [
    "We will introduce the Fama—French data to estimate the exposure of assets to common risk factors using linear regression in [Chapter 9, Time Series Models](../09_time_series_models)."
   ]
  },
  {
   "cell_type": "markdown",
   "metadata": {},
   "source": [
    "The five Fama—French factors, namely market risk, size, value, operating profitability, and investment have been shown empirically to explain asset returns and are commonly used to assess the risk/return profile of portfolios. Hence, it is natural to include past factor exposures as financial features in models that aim to predict future returns."
   ]
  },
  {
   "cell_type": "markdown",
   "metadata": {},
   "source": [
    "We can access the historical factor returns using the `pandas-datareader` and estimate historical exposures using the `RollingOLS` rolling linear regression functionality in the `statsmodels` library as follows:"
   ]
  },
  {
   "cell_type": "markdown",
   "metadata": {},
   "source": [
    "Use Fama-French research factors to estimate the factor exposures of the stock in the dataset to the 5 factors market risk, size, value, operating profitability and investment."
   ]
  },
  {
   "cell_type": "code",
   "execution_count": 19,
   "metadata": {
    "ExecuteTime": {
     "end_time": "2021-04-15T19:42:33.769036Z",
     "start_time": "2021-04-15T19:42:33.465722Z"
    },
    "scrolled": false
   },
   "outputs": [
    {
     "name": "stdout",
     "output_type": "stream",
     "text": [
      "<class 'pandas.core.frame.DataFrame'>\n",
      "DatetimeIndex: 300 entries, 2000-01-31 to 2024-12-31\n",
      "Freq: ME\n",
      "Data columns (total 5 columns):\n",
      " #   Column  Non-Null Count  Dtype  \n",
      "---  ------  --------------  -----  \n",
      " 0   Mkt-RF  300 non-null    float64\n",
      " 1   SMB     300 non-null    float64\n",
      " 2   HML     300 non-null    float64\n",
      " 3   RMW     300 non-null    float64\n",
      " 4   CMA     300 non-null    float64\n",
      "dtypes: float64(5)\n",
      "memory usage: 14.1 KB\n"
     ]
    }
   ],
   "source": [
    "factors = ['Mkt-RF', 'SMB', 'HML', 'RMW', 'CMA']\n",
    "factor_data = web.DataReader('F-F_Research_Data_5_Factors_2x3', 'famafrench', start='2000')[0].drop('RF', axis=1)\n",
    "factor_data.index = factor_data.index.to_timestamp()\n",
    "factor_data = factor_data.resample('ME').last().div(100)\n",
    "factor_data.index.name = 'date'\n",
    "factor_data.info()"
   ]
  },
  {
   "cell_type": "code",
   "execution_count": 20,
   "metadata": {
    "ExecuteTime": {
     "end_time": "2021-04-15T19:42:33.816362Z",
     "start_time": "2021-04-15T19:42:33.769871Z"
    },
    "scrolled": true
   },
   "outputs": [
    {
     "name": "stdout",
     "output_type": "stream",
     "text": [
      "<class 'pandas.core.frame.DataFrame'>\n",
      "MultiIndex: 360752 entries, ('A', Timestamp('2001-01-31 00:00:00')) to ('ZUMZ', Timestamp('2018-03-31 00:00:00'))\n",
      "Data columns (total 6 columns):\n",
      " #   Column     Non-Null Count   Dtype  \n",
      "---  ------     --------------   -----  \n",
      " 0   Mkt-RF     360752 non-null  float64\n",
      " 1   SMB        360752 non-null  float64\n",
      " 2   HML        360752 non-null  float64\n",
      " 3   RMW        360752 non-null  float64\n",
      " 4   CMA        360752 non-null  float64\n",
      " 5   return_1m  360752 non-null  float64\n",
      "dtypes: float64(6)\n",
      "memory usage: 18.0+ MB\n"
     ]
    }
   ],
   "source": [
    "factor_data = factor_data.join(data['return_1m']).sort_index()\n",
    "factor_data.info()"
   ]
  },
  {
   "cell_type": "code",
   "execution_count": 21,
   "metadata": {
    "ExecuteTime": {
     "end_time": "2021-04-15T19:42:45.008104Z",
     "start_time": "2021-04-15T19:42:33.817495Z"
    }
   },
   "outputs": [],
   "source": [
    "T = 24\n",
    "betas = (factor_data.groupby(level='ticker',\n",
    "                             group_keys=False)\n",
    "         .apply(lambda x: RollingOLS(endog=x.return_1m,\n",
    "                                     exog=sm.add_constant(x.drop('return_1m', axis=1)),\n",
    "                                     window=min(T, x.shape[0]-1))\n",
    "                .fit(params_only=True)\n",
    "                .params\n",
    "                .drop('const', axis=1)))"
   ]
  },
  {
   "cell_type": "code",
   "execution_count": 22,
   "metadata": {
    "ExecuteTime": {
     "end_time": "2021-04-15T19:42:45.092905Z",
     "start_time": "2021-04-15T19:42:45.009169Z"
    }
   },
   "outputs": [
    {
     "data": {
      "text/html": [
       "<div>\n",
       "<style scoped>\n",
       "    .dataframe tbody tr th:only-of-type {\n",
       "        vertical-align: middle;\n",
       "    }\n",
       "\n",
       "    .dataframe tbody tr th {\n",
       "        vertical-align: top;\n",
       "    }\n",
       "\n",
       "    .dataframe thead th {\n",
       "        text-align: right;\n",
       "    }\n",
       "</style>\n",
       "<table border=\"1\" class=\"dataframe\">\n",
       "  <thead>\n",
       "    <tr style=\"text-align: right;\">\n",
       "      <th></th>\n",
       "      <th>Mkt-RF</th>\n",
       "      <th>SMB</th>\n",
       "      <th>HML</th>\n",
       "      <th>RMW</th>\n",
       "      <th>CMA</th>\n",
       "      <th>total</th>\n",
       "    </tr>\n",
       "  </thead>\n",
       "  <tbody>\n",
       "    <tr>\n",
       "      <th>count</th>\n",
       "      <td>318478.000000</td>\n",
       "      <td>318478.000000</td>\n",
       "      <td>318478.000000</td>\n",
       "      <td>318478.000000</td>\n",
       "      <td>318478.000000</td>\n",
       "      <td>360752.000000</td>\n",
       "    </tr>\n",
       "    <tr>\n",
       "      <th>mean</th>\n",
       "      <td>0.979349</td>\n",
       "      <td>0.626573</td>\n",
       "      <td>0.122594</td>\n",
       "      <td>-0.062044</td>\n",
       "      <td>0.016770</td>\n",
       "      <td>1.485995</td>\n",
       "    </tr>\n",
       "    <tr>\n",
       "      <th>std</th>\n",
       "      <td>0.918122</td>\n",
       "      <td>1.253890</td>\n",
       "      <td>1.603517</td>\n",
       "      <td>1.908393</td>\n",
       "      <td>2.160008</td>\n",
       "      <td>3.307135</td>\n",
       "    </tr>\n",
       "    <tr>\n",
       "      <th>min</th>\n",
       "      <td>-9.807080</td>\n",
       "      <td>-10.398189</td>\n",
       "      <td>-15.363313</td>\n",
       "      <td>-23.176501</td>\n",
       "      <td>-18.433887</td>\n",
       "      <td>-33.509990</td>\n",
       "    </tr>\n",
       "    <tr>\n",
       "      <th>25%</th>\n",
       "      <td>0.463591</td>\n",
       "      <td>-0.118512</td>\n",
       "      <td>-0.707792</td>\n",
       "      <td>-0.973555</td>\n",
       "      <td>-1.071965</td>\n",
       "      <td>0.000000</td>\n",
       "    </tr>\n",
       "    <tr>\n",
       "      <th>50%</th>\n",
       "      <td>0.928871</td>\n",
       "      <td>0.541582</td>\n",
       "      <td>0.095655</td>\n",
       "      <td>0.038050</td>\n",
       "      <td>0.040449</td>\n",
       "      <td>1.213361</td>\n",
       "    </tr>\n",
       "    <tr>\n",
       "      <th>75%</th>\n",
       "      <td>1.444912</td>\n",
       "      <td>1.303919</td>\n",
       "      <td>0.946904</td>\n",
       "      <td>0.950999</td>\n",
       "      <td>1.136182</td>\n",
       "      <td>3.146827</td>\n",
       "    </tr>\n",
       "    <tr>\n",
       "      <th>max</th>\n",
       "      <td>10.849718</td>\n",
       "      <td>10.293272</td>\n",
       "      <td>15.042631</td>\n",
       "      <td>17.098757</td>\n",
       "      <td>16.733729</td>\n",
       "      <td>34.288711</td>\n",
       "    </tr>\n",
       "  </tbody>\n",
       "</table>\n",
       "</div>"
      ],
      "text/plain": [
       "              Mkt-RF            SMB            HML            RMW  \\\n",
       "count  318478.000000  318478.000000  318478.000000  318478.000000   \n",
       "mean        0.979349       0.626573       0.122594      -0.062044   \n",
       "std         0.918122       1.253890       1.603517       1.908393   \n",
       "min        -9.807080     -10.398189     -15.363313     -23.176501   \n",
       "25%         0.463591      -0.118512      -0.707792      -0.973555   \n",
       "50%         0.928871       0.541582       0.095655       0.038050   \n",
       "75%         1.444912       1.303919       0.946904       0.950999   \n",
       "max        10.849718      10.293272      15.042631      17.098757   \n",
       "\n",
       "                 CMA          total  \n",
       "count  318478.000000  360752.000000  \n",
       "mean        0.016770       1.485995  \n",
       "std         2.160008       3.307135  \n",
       "min       -18.433887     -33.509990  \n",
       "25%        -1.071965       0.000000  \n",
       "50%         0.040449       1.213361  \n",
       "75%         1.136182       3.146827  \n",
       "max        16.733729      34.288711  "
      ]
     },
     "execution_count": 22,
     "metadata": {},
     "output_type": "execute_result"
    }
   ],
   "source": [
    "betas.describe().join(betas.sum(1).describe().to_frame('total'))"
   ]
  },
  {
   "cell_type": "code",
   "execution_count": 23,
   "metadata": {
    "ExecuteTime": {
     "end_time": "2021-04-15T19:42:45.366245Z",
     "start_time": "2021-04-15T19:42:45.093829Z"
    }
   },
   "outputs": [
    {
     "data": {
      "image/png": "[encoded data removed]",
      "text/plain": [
       "<Figure size 1000x1000 with 4 Axes>"
      ]
     },
     "metadata": {},
     "output_type": "display_data"
    }
   ],
   "source": [
    "cmap = sns.diverging_palette(10, 220, as_cmap=True)\n",
    "sns.clustermap(betas.corr(), annot=True, cmap=cmap, center=0);"
   ]
  },
  {
   "cell_type": "code",
   "execution_count": 24,
   "metadata": {
    "ExecuteTime": {
     "end_time": "2021-04-15T19:42:45.456467Z",
     "start_time": "2021-04-15T19:42:45.367374Z"
    },
    "scrolled": true
   },
   "outputs": [
    {
     "name": "stdout",
     "output_type": "stream",
     "text": [
      "<class 'pandas.core.frame.DataFrame'>\n",
      "MultiIndex: 360752 entries, ('A', Timestamp('2001-01-31 00:00:00')) to ('ZUMZ', Timestamp('2018-03-31 00:00:00'))\n",
      "Data columns (total 11 columns):\n",
      " #   Column      Non-Null Count   Dtype  \n",
      "---  ------      --------------   -----  \n",
      " 0   return_1m   360752 non-null  float64\n",
      " 1   return_2m   360752 non-null  float64\n",
      " 2   return_3m   360752 non-null  float64\n",
      " 3   return_6m   360752 non-null  float64\n",
      " 4   return_9m   360752 non-null  float64\n",
      " 5   return_12m  360752 non-null  float64\n",
      " 6   Mkt-RF      316640 non-null  float64\n",
      " 7   SMB         316640 non-null  float64\n",
      " 8   HML         316640 non-null  float64\n",
      " 9   RMW         316640 non-null  float64\n",
      " 10  CMA         316640 non-null  float64\n",
      "dtypes: float64(11)\n",
      "memory usage: 39.8+ MB\n"
     ]
    }
   ],
   "source": [
    "data = (data\n",
    "        .join(betas\n",
    "              .groupby(level='ticker')\n",
    "              .shift()))\n",
    "data.info()"
   ]
  },
  {
   "cell_type": "markdown",
   "metadata": {},
   "source": [
    "### Impute mean for missing factor betas"
   ]
  },
  {
   "cell_type": "code",
   "execution_count": 25,
   "metadata": {
    "ExecuteTime": {
     "end_time": "2021-04-15T19:42:47.627665Z",
     "start_time": "2021-04-15T19:42:45.458880Z"
    }
   },
   "outputs": [
    {
     "name": "stdout",
     "output_type": "stream",
     "text": [
      "<class 'pandas.core.frame.DataFrame'>\n",
      "MultiIndex: 360752 entries, ('A', Timestamp('2001-01-31 00:00:00')) to ('ZUMZ', Timestamp('2018-03-31 00:00:00'))\n",
      "Data columns (total 11 columns):\n",
      " #   Column      Non-Null Count   Dtype  \n",
      "---  ------      --------------   -----  \n",
      " 0   return_1m   360752 non-null  float64\n",
      " 1   return_2m   360752 non-null  float64\n",
      " 2   return_3m   360752 non-null  float64\n",
      " 3   return_6m   360752 non-null  float64\n",
      " 4   return_9m   360752 non-null  float64\n",
      " 5   return_12m  360752 non-null  float64\n",
      " 6   Mkt-RF      360752 non-null  float64\n",
      " 7   SMB         360752 non-null  float64\n",
      " 8   HML         360752 non-null  float64\n",
      " 9   RMW         360752 non-null  float64\n",
      " 10  CMA         360752 non-null  float64\n",
      "dtypes: float64(11)\n",
      "memory usage: 39.8+ MB\n"
     ]
    }
   ],
   "source": [
    "data.loc[:, factors] = data.groupby('ticker')[factors].transform(lambda x: x.fillna(x.mean()))\n",
    "data.info()"
   ]
  },
  {
   "cell_type": "markdown",
   "metadata": {},
   "source": [
    "## Momentum factors"
   ]
  },
  {
   "cell_type": "markdown",
   "metadata": {},
   "source": [
    "We can use these results to compute momentum factors based on the difference between returns over longer periods and the most recent monthly return, as well as for the difference between 3 and 12 month returns as follows:"
   ]
  },
  {
   "cell_type": "code",
   "execution_count": 26,
   "metadata": {
    "ExecuteTime": {
     "end_time": "2021-04-15T19:42:47.637631Z",
     "start_time": "2021-04-15T19:42:47.628920Z"
    }
   },
   "outputs": [],
   "source": [
    "for lag in [2,3,6,9,12]:\n",
    "    data[f'momentum_{lag}'] = data[f'return_{lag}m'].sub(data.return_1m)\n",
    "data[f'momentum_3_12'] = data[f'return_12m'].sub(data.return_3m)"
   ]
  },
  {
   "cell_type": "markdown",
   "metadata": {},
   "source": [
    "## Date Indicators"
   ]
  },
  {
   "cell_type": "code",
   "execution_count": 27,
   "metadata": {
    "ExecuteTime": {
     "end_time": "2021-04-15T19:42:47.684155Z",
     "start_time": "2021-04-15T19:42:47.638459Z"
    }
   },
   "outputs": [],
   "source": [
    "dates = data.index.get_level_values('date')\n",
    "data['year'] = dates.year\n",
    "data['month'] = dates.month"
   ]
  },
  {
   "cell_type": "markdown",
   "metadata": {},
   "source": [
    "## Lagged returns"
   ]
  },
  {
   "cell_type": "markdown",
   "metadata": {},
   "source": [
    "To use lagged values as input variables or features associated with the current observations, we use the .shift() method to move historical returns up to the current period:"
   ]
  },
  {
   "cell_type": "code",
   "execution_count": 28,
   "metadata": {
    "ExecuteTime": {
     "end_time": "2021-04-15T19:42:47.833744Z",
     "start_time": "2021-04-15T19:42:47.685024Z"
    }
   },
   "outputs": [
    {
     "name": "stdout",
     "output_type": "stream",
     "text": [
      "<class 'pandas.core.frame.DataFrame'>\n",
      "MultiIndex: 360752 entries, ('A', Timestamp('2001-01-31 00:00:00')) to ('ZUMZ', Timestamp('2018-03-31 00:00:00'))\n",
      "Data columns (total 25 columns):\n",
      " #   Column         Non-Null Count   Dtype  \n",
      "---  ------         --------------   -----  \n",
      " 0   return_1m      360752 non-null  float64\n",
      " 1   return_2m      360752 non-null  float64\n",
      " 2   return_3m      360752 non-null  float64\n",
      " 3   return_6m      360752 non-null  float64\n",
      " 4   return_9m      360752 non-null  float64\n",
      " 5   return_12m     360752 non-null  float64\n",
      " 6   Mkt-RF         360752 non-null  float64\n",
      " 7   SMB            360752 non-null  float64\n",
      " 8   HML            360752 non-null  float64\n",
      " 9   RMW            360752 non-null  float64\n",
      " 10  CMA            360752 non-null  float64\n",
      " 11  momentum_2     360752 non-null  float64\n",
      " 12  momentum_3     360752 non-null  float64\n",
      " 13  momentum_6     360752 non-null  float64\n",
      " 14  momentum_9     360752 non-null  float64\n",
      " 15  momentum_12    360752 non-null  float64\n",
      " 16  momentum_3_12  360752 non-null  float64\n",
      " 17  year           360752 non-null  int32  \n",
      " 18  month          360752 non-null  int32  \n",
      " 19  return_1m_t-1  358914 non-null  float64\n",
      " 20  return_1m_t-2  357076 non-null  float64\n",
      " 21  return_1m_t-3  355238 non-null  float64\n",
      " 22  return_1m_t-4  353400 non-null  float64\n",
      " 23  return_1m_t-5  351562 non-null  float64\n",
      " 24  return_1m_t-6  349724 non-null  float64\n",
      "dtypes: float64(23), int32(2)\n",
      "memory usage: 75.6+ MB\n"
     ]
    }
   ],
   "source": [
    "for t in range(1, 7):\n",
    "    data[f'return_1m_t-{t}'] = data.groupby(level='ticker').return_1m.shift(t)\n",
    "data.info()"
   ]
  },
  {
   "cell_type": "markdown",
   "metadata": {},
   "source": [
    "## Target: Holding Period Returns"
   ]
  },
  {
   "cell_type": "markdown",
   "metadata": {},
   "source": [
    "Similarly, to compute returns for various holding periods, we use the normalized period returns computed previously and shift them back to align them with the current financial features"
   ]
  },
  {
   "cell_type": "code",
   "execution_count": 29,
   "metadata": {
    "ExecuteTime": {
     "end_time": "2021-04-15T19:42:47.945813Z",
     "start_time": "2021-04-15T19:42:47.834603Z"
    }
   },
   "outputs": [],
   "source": [
    "for t in [1,2,3,6,12]:\n",
    "    data[f'target_{t}m'] = data.groupby(level='ticker')[f'return_{t}m'].shift(-t)"
   ]
  },
  {
   "cell_type": "code",
   "execution_count": 30,
   "metadata": {
    "ExecuteTime": {
     "end_time": "2021-04-15T19:42:48.020064Z",
     "start_time": "2021-04-15T19:42:47.946666Z"
    }
   },
   "outputs": [
    {
     "data": {
      "text/html": [
       "<div>\n",
       "<style scoped>\n",
       "    .dataframe tbody tr th:only-of-type {\n",
       "        vertical-align: middle;\n",
       "    }\n",
       "\n",
       "    .dataframe tbody tr th {\n",
       "        vertical-align: top;\n",
       "    }\n",
       "\n",
       "    .dataframe thead th {\n",
       "        text-align: right;\n",
       "    }\n",
       "</style>\n",
       "<table border=\"1\" class=\"dataframe\">\n",
       "  <thead>\n",
       "    <tr style=\"text-align: right;\">\n",
       "      <th></th>\n",
       "      <th></th>\n",
       "      <th>target_1m</th>\n",
       "      <th>target_2m</th>\n",
       "      <th>target_3m</th>\n",
       "      <th>return_1m</th>\n",
       "      <th>return_2m</th>\n",
       "      <th>return_3m</th>\n",
       "      <th>return_1m_t-1</th>\n",
       "      <th>return_1m_t-2</th>\n",
       "      <th>return_1m_t-3</th>\n",
       "    </tr>\n",
       "    <tr>\n",
       "      <th>ticker</th>\n",
       "      <th>date</th>\n",
       "      <th></th>\n",
       "      <th></th>\n",
       "      <th></th>\n",
       "      <th></th>\n",
       "      <th></th>\n",
       "      <th></th>\n",
       "      <th></th>\n",
       "      <th></th>\n",
       "      <th></th>\n",
       "    </tr>\n",
       "  </thead>\n",
       "  <tbody>\n",
       "    <tr>\n",
       "      <th rowspan=\"10\" valign=\"top\">A</th>\n",
       "      <th>2001-04-30</th>\n",
       "      <td>-0.140220</td>\n",
       "      <td>-0.087246</td>\n",
       "      <td>-0.098192</td>\n",
       "      <td>0.269444</td>\n",
       "      <td>0.040966</td>\n",
       "      <td>-0.105747</td>\n",
       "      <td>-0.146389</td>\n",
       "      <td>-0.329564</td>\n",
       "      <td>-0.003653</td>\n",
       "    </tr>\n",
       "    <tr>\n",
       "      <th>2001-05-31</th>\n",
       "      <td>-0.031008</td>\n",
       "      <td>-0.076414</td>\n",
       "      <td>-0.075527</td>\n",
       "      <td>-0.140220</td>\n",
       "      <td>0.044721</td>\n",
       "      <td>-0.023317</td>\n",
       "      <td>0.269444</td>\n",
       "      <td>-0.146389</td>\n",
       "      <td>-0.329564</td>\n",
       "    </tr>\n",
       "    <tr>\n",
       "      <th>2001-06-30</th>\n",
       "      <td>-0.119692</td>\n",
       "      <td>-0.097014</td>\n",
       "      <td>-0.155847</td>\n",
       "      <td>-0.031008</td>\n",
       "      <td>-0.087246</td>\n",
       "      <td>0.018842</td>\n",
       "      <td>-0.140220</td>\n",
       "      <td>0.269444</td>\n",
       "      <td>-0.146389</td>\n",
       "    </tr>\n",
       "    <tr>\n",
       "      <th>2001-07-31</th>\n",
       "      <td>-0.073750</td>\n",
       "      <td>-0.173364</td>\n",
       "      <td>-0.080114</td>\n",
       "      <td>-0.119692</td>\n",
       "      <td>-0.076414</td>\n",
       "      <td>-0.098192</td>\n",
       "      <td>-0.031008</td>\n",
       "      <td>-0.140220</td>\n",
       "      <td>0.269444</td>\n",
       "    </tr>\n",
       "    <tr>\n",
       "      <th>2001-08-31</th>\n",
       "      <td>-0.262264</td>\n",
       "      <td>-0.083279</td>\n",
       "      <td>0.009593</td>\n",
       "      <td>-0.073750</td>\n",
       "      <td>-0.097014</td>\n",
       "      <td>-0.075527</td>\n",
       "      <td>-0.119692</td>\n",
       "      <td>-0.031008</td>\n",
       "      <td>-0.140220</td>\n",
       "    </tr>\n",
       "    <tr>\n",
       "      <th>2001-09-30</th>\n",
       "      <td>0.139130</td>\n",
       "      <td>0.181052</td>\n",
       "      <td>0.134010</td>\n",
       "      <td>-0.262264</td>\n",
       "      <td>-0.173364</td>\n",
       "      <td>-0.155847</td>\n",
       "      <td>-0.073750</td>\n",
       "      <td>-0.119692</td>\n",
       "      <td>-0.031008</td>\n",
       "    </tr>\n",
       "    <tr>\n",
       "      <th>2001-10-31</th>\n",
       "      <td>0.224517</td>\n",
       "      <td>0.131458</td>\n",
       "      <td>0.108697</td>\n",
       "      <td>0.139130</td>\n",
       "      <td>-0.083279</td>\n",
       "      <td>-0.080114</td>\n",
       "      <td>-0.262264</td>\n",
       "      <td>-0.073750</td>\n",
       "      <td>-0.119692</td>\n",
       "    </tr>\n",
       "    <tr>\n",
       "      <th>2001-11-30</th>\n",
       "      <td>0.045471</td>\n",
       "      <td>0.054962</td>\n",
       "      <td>0.045340</td>\n",
       "      <td>0.224517</td>\n",
       "      <td>0.181052</td>\n",
       "      <td>0.009593</td>\n",
       "      <td>0.139130</td>\n",
       "      <td>-0.262264</td>\n",
       "      <td>-0.073750</td>\n",
       "    </tr>\n",
       "    <tr>\n",
       "      <th>2001-12-31</th>\n",
       "      <td>0.064539</td>\n",
       "      <td>0.045275</td>\n",
       "      <td>0.070347</td>\n",
       "      <td>0.045471</td>\n",
       "      <td>0.131458</td>\n",
       "      <td>0.134010</td>\n",
       "      <td>0.224517</td>\n",
       "      <td>0.139130</td>\n",
       "      <td>-0.262264</td>\n",
       "    </tr>\n",
       "    <tr>\n",
       "      <th>2002-01-31</th>\n",
       "      <td>0.026359</td>\n",
       "      <td>0.073264</td>\n",
       "      <td>-0.003306</td>\n",
       "      <td>0.064539</td>\n",
       "      <td>0.054962</td>\n",
       "      <td>0.108697</td>\n",
       "      <td>0.045471</td>\n",
       "      <td>0.224517</td>\n",
       "      <td>0.139130</td>\n",
       "    </tr>\n",
       "  </tbody>\n",
       "</table>\n",
       "</div>"
      ],
      "text/plain": [
       "                   target_1m  target_2m  target_3m  return_1m  return_2m  \\\n",
       "ticker date                                                                \n",
       "A      2001-04-30  -0.140220  -0.087246  -0.098192   0.269444   0.040966   \n",
       "       2001-05-31  -0.031008  -0.076414  -0.075527  -0.140220   0.044721   \n",
       "       2001-06-30  -0.119692  -0.097014  -0.155847  -0.031008  -0.087246   \n",
       "       2001-07-31  -0.073750  -0.173364  -0.080114  -0.119692  -0.076414   \n",
       "       2001-08-31  -0.262264  -0.083279   0.009593  -0.073750  -0.097014   \n",
       "       2001-09-30   0.139130   0.181052   0.134010  -0.262264  -0.173364   \n",
       "       2001-10-31   0.224517   0.131458   0.108697   0.139130  -0.083279   \n",
       "       2001-11-30   0.045471   0.054962   0.045340   0.224517   0.181052   \n",
       "       2001-12-31   0.064539   0.045275   0.070347   0.045471   0.131458   \n",
       "       2002-01-31   0.026359   0.073264  -0.003306   0.064539   0.054962   \n",
       "\n",
       "                   return_3m  return_1m_t-1  return_1m_t-2  return_1m_t-3  \n",
       "ticker date                                                                \n",
       "A      2001-04-30  -0.105747      -0.146389      -0.329564      -0.003653  \n",
       "       2001-05-31  -0.023317       0.269444      -0.146389      -0.329564  \n",
       "       2001-06-30   0.018842      -0.140220       0.269444      -0.146389  \n",
       "       2001-07-31  -0.098192      -0.031008      -0.140220       0.269444  \n",
       "       2001-08-31  -0.075527      -0.119692      -0.031008      -0.140220  \n",
       "       2001-09-30  -0.155847      -0.073750      -0.119692      -0.031008  \n",
       "       2001-10-31  -0.080114      -0.262264      -0.073750      -0.119692  \n",
       "       2001-11-30   0.009593       0.139130      -0.262264      -0.073750  \n",
       "       2001-12-31   0.134010       0.224517       0.139130      -0.262264  \n",
       "       2002-01-31   0.108697       0.045471       0.224517       0.139130  "
      ]
     },
     "execution_count": 30,
     "metadata": {},
     "output_type": "execute_result"
    }
   ],
   "source": [
    "cols = ['target_1m',\n",
    "        'target_2m',\n",
    "        'target_3m', \n",
    "        'return_1m',\n",
    "        'return_2m',\n",
    "        'return_3m',\n",
    "        'return_1m_t-1',\n",
    "        'return_1m_t-2',\n",
    "        'return_1m_t-3']\n",
    "\n",
    "data[cols].dropna().sort_index().head(10)"
   ]
  },
  {
   "cell_type": "code",
   "execution_count": 31,
   "metadata": {
    "ExecuteTime": {
     "end_time": "2021-04-15T19:42:48.040307Z",
     "start_time": "2021-04-15T19:42:48.020850Z"
    }
   },
   "outputs": [
    {
     "name": "stdout",
     "output_type": "stream",
     "text": [
      "<class 'pandas.core.frame.DataFrame'>\n",
      "MultiIndex: 360752 entries, ('A', Timestamp('2001-01-31 00:00:00')) to ('ZUMZ', Timestamp('2018-03-31 00:00:00'))\n",
      "Data columns (total 30 columns):\n",
      " #   Column         Non-Null Count   Dtype  \n",
      "---  ------         --------------   -----  \n",
      " 0   return_1m      360752 non-null  float64\n",
      " 1   return_2m      360752 non-null  float64\n",
      " 2   return_3m      360752 non-null  float64\n",
      " 3   return_6m      360752 non-null  float64\n",
      " 4   return_9m      360752 non-null  float64\n",
      " 5   return_12m     360752 non-null  float64\n",
      " 6   Mkt-RF         360752 non-null  float64\n",
      " 7   SMB            360752 non-null  float64\n",
      " 8   HML            360752 non-null  float64\n",
      " 9   RMW            360752 non-null  float64\n",
      " 10  CMA            360752 non-null  float64\n",
      " 11  momentum_2     360752 non-null  float64\n",
      " 12  momentum_3     360752 non-null  float64\n",
      " 13  momentum_6     360752 non-null  float64\n",
      " 14  momentum_9     360752 non-null  float64\n",
      " 15  momentum_12    360752 non-null  float64\n",
      " 16  momentum_3_12  360752 non-null  float64\n",
      " 17  year           360752 non-null  int32  \n",
      " 18  month          360752 non-null  int32  \n",
      " 19  return_1m_t-1  358914 non-null  float64\n",
      " 20  return_1m_t-2  357076 non-null  float64\n",
      " 21  return_1m_t-3  355238 non-null  float64\n",
      " 22  return_1m_t-4  353400 non-null  float64\n",
      " 23  return_1m_t-5  351562 non-null  float64\n",
      " 24  return_1m_t-6  349724 non-null  float64\n",
      " 25  target_1m      358914 non-null  float64\n",
      " 26  target_2m      357076 non-null  float64\n",
      " 27  target_3m      355238 non-null  float64\n",
      " 28  target_6m      349724 non-null  float64\n",
      " 29  target_12m     338696 non-null  float64\n",
      "dtypes: float64(28), int32(2)\n",
      "memory usage: 89.3+ MB\n"
     ]
    }
   ],
   "source": [
    "data.info()"
   ]
  },
  {
   "cell_type": "markdown",
   "metadata": {},
   "source": [
    "## Create age proxy"
   ]
  },
  {
   "cell_type": "markdown",
   "metadata": {},
   "source": [
    "We use quintiles of IPO year as a proxy for company age."
   ]
  },
  {
   "cell_type": "code",
   "execution_count": 32,
   "metadata": {
    "ExecuteTime": {
     "end_time": "2021-04-15T19:42:48.061542Z",
     "start_time": "2021-04-15T19:42:48.041100Z"
    }
   },
   "outputs": [],
   "source": [
    "data = (data\n",
    "        .join(pd.qcut(stocks.ipoyear, q=5, labels=list(range(1, 6)))\n",
    "              .astype(float)\n",
    "              .fillna(0)\n",
    "              .astype(int)\n",
    "              .to_frame('age')))\n",
    "data.age = data.age.fillna(-1)"
   ]
  },
  {
   "cell_type": "markdown",
   "metadata": {},
   "source": [
    "## Create dynamic size proxy"
   ]
  },
  {
   "cell_type": "markdown",
   "metadata": {},
   "source": [
    "We use the marketcap information from the NASDAQ ticker info to create a size proxy."
   ]
  },
  {
   "cell_type": "code",
   "execution_count": 33,
   "metadata": {
    "ExecuteTime": {
     "end_time": "2021-04-15T19:42:48.067917Z",
     "start_time": "2021-04-15T19:42:48.062397Z"
    }
   },
   "outputs": [
    {
     "name": "stdout",
     "output_type": "stream",
     "text": [
      "<class 'pandas.core.frame.DataFrame'>\n",
      "Index: 2412 entries, A to ZUMZ\n",
      "Data columns (total 3 columns):\n",
      " #   Column     Non-Null Count  Dtype  \n",
      "---  ------     --------------  -----  \n",
      " 0   marketcap  2407 non-null   float64\n",
      " 1   ipoyear    1065 non-null   float64\n",
      " 2   sector     2372 non-null   object \n",
      "dtypes: float64(2), object(1)\n",
      "memory usage: 139.9+ KB\n"
     ]
    }
   ],
   "source": [
    "stocks.info()"
   ]
  },
  {
   "cell_type": "markdown",
   "metadata": {},
   "source": [
    "Market cap information is tied to currrent prices. We create an adjustment factor to have the values reflect lower historical prices for each individual stock:"
   ]
  },
  {
   "cell_type": "code",
   "execution_count": 34,
   "metadata": {
    "ExecuteTime": {
     "end_time": "2021-04-15T19:42:48.144287Z",
     "start_time": "2021-04-15T19:42:48.068650Z"
    }
   },
   "outputs": [
    {
     "name": "stdout",
     "output_type": "stream",
     "text": [
      "<class 'pandas.core.frame.DataFrame'>\n",
      "DatetimeIndex: 207 entries, 2018-03-31 to 2001-01-31\n",
      "Columns: 1838 entries, A to ZUMZ\n",
      "dtypes: float64(1838)\n",
      "memory usage: 2.9 MB\n"
     ]
    }
   ],
   "source": [
    "size_factor = (monthly_prices\n",
    "               .loc[data.index.get_level_values('date').unique(),\n",
    "                    data.index.get_level_values('ticker').unique()]\n",
    "               .sort_index(ascending=False)\n",
    "               .pct_change()\n",
    "               .fillna(0)\n",
    "               .add(1)\n",
    "               .cumprod())\n",
    "size_factor.info()"
   ]
  },
  {
   "cell_type": "code",
   "execution_count": 35,
   "metadata": {
    "ExecuteTime": {
     "end_time": "2021-04-15T19:42:48.153203Z",
     "start_time": "2021-04-15T19:42:48.145309Z"
    }
   },
   "outputs": [],
   "source": [
    "msize = (size_factor\n",
    "         .mul(stocks\n",
    "              .loc[size_factor.columns, 'marketcap'])).dropna(axis=1, how='all')"
   ]
  },
  {
   "cell_type": "markdown",
   "metadata": {},
   "source": [
    "### Create Size indicator as deciles per period"
   ]
  },
  {
   "cell_type": "markdown",
   "metadata": {},
   "source": [
    "Compute size deciles per month:"
   ]
  },
  {
   "cell_type": "code",
   "execution_count": 36,
   "metadata": {
    "ExecuteTime": {
     "end_time": "2021-04-15T19:42:49.795031Z",
     "start_time": "2021-04-15T19:42:48.154005Z"
    }
   },
   "outputs": [],
   "source": [
    "data['msize'] = (msize\n",
    "                 .apply(lambda x: pd.qcut(x, q=10, labels=list(range(1, 11)))\n",
    "                        .astype(int), axis=1)\n",
    "                 .stack()\n",
    "                 .swaplevel())\n",
    "data.msize = data.msize.fillna(-1)"
   ]
  },
  {
   "cell_type": "markdown",
   "metadata": {},
   "source": [
    "## Combine data"
   ]
  },
  {
   "cell_type": "code",
   "execution_count": 37,
   "metadata": {
    "ExecuteTime": {
     "end_time": "2021-04-15T19:42:49.832155Z",
     "start_time": "2021-04-15T19:42:49.795874Z"
    }
   },
   "outputs": [],
   "source": [
    "data = data.join(stocks[['sector']])\n",
    "data.sector = data.sector.fillna('Unknown')"
   ]
  },
  {
   "cell_type": "code",
   "execution_count": 38,
   "metadata": {
    "ExecuteTime": {
     "end_time": "2021-04-15T19:42:49.863430Z",
     "start_time": "2021-04-15T19:42:49.833060Z"
    },
    "scrolled": false
   },
   "outputs": [
    {
     "name": "stdout",
     "output_type": "stream",
     "text": [
      "<class 'pandas.core.frame.DataFrame'>\n",
      "MultiIndex: 360752 entries, ('A', Timestamp('2001-01-31 00:00:00')) to ('ZUMZ', Timestamp('2018-03-31 00:00:00'))\n",
      "Data columns (total 33 columns):\n",
      " #   Column         Non-Null Count   Dtype  \n",
      "---  ------         --------------   -----  \n",
      " 0   return_1m      360752 non-null  float64\n",
      " 1   return_2m      360752 non-null  float64\n",
      " 2   return_3m      360752 non-null  float64\n",
      " 3   return_6m      360752 non-null  float64\n",
      " 4   return_9m      360752 non-null  float64\n",
      " 5   return_12m     360752 non-null  float64\n",
      " 6   Mkt-RF         360752 non-null  float64\n",
      " 7   SMB            360752 non-null  float64\n",
      " 8   HML            360752 non-null  float64\n",
      " 9   RMW            360752 non-null  float64\n",
      " 10  CMA            360752 non-null  float64\n",
      " 11  momentum_2     360752 non-null  float64\n",
      " 12  momentum_3     360752 non-null  float64\n",
      " 13  momentum_6     360752 non-null  float64\n",
      " 14  momentum_9     360752 non-null  float64\n",
      " 15  momentum_12    360752 non-null  float64\n",
      " 16  momentum_3_12  360752 non-null  float64\n",
      " 17  year           360752 non-null  int32  \n",
      " 18  month          360752 non-null  int32  \n",
      " 19  return_1m_t-1  358914 non-null  float64\n",
      " 20  return_1m_t-2  357076 non-null  float64\n",
      " 21  return_1m_t-3  355238 non-null  float64\n",
      " 22  return_1m_t-4  353400 non-null  float64\n",
      " 23  return_1m_t-5  351562 non-null  float64\n",
      " 24  return_1m_t-6  349724 non-null  float64\n",
      " 25  target_1m      358914 non-null  float64\n",
      " 26  target_2m      357076 non-null  float64\n",
      " 27  target_3m      355238 non-null  float64\n",
      " 28  target_6m      349724 non-null  float64\n",
      " 29  target_12m     338696 non-null  float64\n",
      " 30  age            360752 non-null  int32  \n",
      " 31  msize          360752 non-null  float64\n",
      " 32  sector         360752 non-null  object \n",
      "dtypes: float64(29), int32(3), object(1)\n",
      "memory usage: 96.2+ MB\n"
     ]
    }
   ],
   "source": [
    "data.info()"
   ]
  },
  {
   "cell_type": "markdown",
   "metadata": {},
   "source": [
    "## Store data"
   ]
  },
  {
   "cell_type": "markdown",
   "metadata": {},
   "source": [
    "We will use the data again in several later chapters, starting in [Chapter 7 on Linear Models](../07_linear_models)."
   ]
  },
  {
   "cell_type": "code",
   "execution_count": 39,
   "metadata": {
    "ExecuteTime": {
     "end_time": "2021-04-15T19:42:50.165429Z",
     "start_time": "2021-04-15T19:42:49.864236Z"
    },
    "scrolled": false
   },
   "outputs": [
    {
     "name": "stdout",
     "output_type": "stream",
     "text": [
      "<class 'pandas.io.pytables.HDFStore'>\n",
      "File path: ../data/assets.h5\n",
      "/engineered_features            frame        (shape->[358914,33])  \n",
      "/quandl/wiki/prices             frame        (shape->[15389314,12])\n",
      "/quandl/wiki/stocks             frame        (shape->[1,2])        \n",
      "/sp500/fred                     frame        (shape->[2609,1])     \n",
      "/sp500/stocks                   frame        (shape->[503,8])      \n",
      "/sp500/stooq                    frame        (shape->[17700,5])    \n",
      "/us_equities/stocks             frame        (shape->[6834,6])     \n"
     ]
    }
   ],
   "source": [
    "with pd.HDFStore(DATA_STORE) as store:\n",
    "    store.put('engineered_features', data.sort_index().loc[idx[:, :datetime(2018, 3, 1)], :])\n",
    "    print(store.info())"
   ]
  },
  {
   "cell_type": "markdown",
   "metadata": {},
   "source": [
    "## Create Dummy variables"
   ]
  },
  {
   "cell_type": "markdown",
   "metadata": {},
   "source": [
    "For most models, we need to encode categorical variables as 'dummies' (one-hot encoding):"
   ]
  },
  {
   "cell_type": "code",
   "execution_count": 40,
   "metadata": {
    "ExecuteTime": {
     "end_time": "2021-04-15T19:42:50.404583Z",
     "start_time": "2021-04-15T19:42:50.166383Z"
    },
    "scrolled": false
   },
   "outputs": [
    {
     "name": "stdout",
     "output_type": "stream",
     "text": [
      "<class 'pandas.core.frame.DataFrame'>\n",
      "MultiIndex: 360752 entries, ('A', Timestamp('2001-01-31 00:00:00')) to ('ZUMZ', Timestamp('2018-03-31 00:00:00'))\n",
      "Data columns (total 88 columns):\n",
      " #   Column                 Non-Null Count   Dtype  \n",
      "---  ------                 --------------   -----  \n",
      " 0   return_1m              360752 non-null  float64\n",
      " 1   return_2m              360752 non-null  float64\n",
      " 2   return_3m              360752 non-null  float64\n",
      " 3   return_6m              360752 non-null  float64\n",
      " 4   return_9m              360752 non-null  float64\n",
      " 5   return_12m             360752 non-null  float64\n",
      " 6   Mkt-RF                 360752 non-null  float64\n",
      " 7   SMB                    360752 non-null  float64\n",
      " 8   HML                    360752 non-null  float64\n",
      " 9   RMW                    360752 non-null  float64\n",
      " 10  CMA                    360752 non-null  float64\n",
      " 11  momentum_2             360752 non-null  float64\n",
      " 12  momentum_3             360752 non-null  float64\n",
      " 13  momentum_6             360752 non-null  float64\n",
      " 14  momentum_9             360752 non-null  float64\n",
      " 15  momentum_12            360752 non-null  float64\n",
      " 16  momentum_3_12          360752 non-null  float64\n",
      " 17  return_1m_t-1          358914 non-null  float64\n",
      " 18  return_1m_t-2          357076 non-null  float64\n",
      " 19  return_1m_t-3          355238 non-null  float64\n",
      " 20  return_1m_t-4          353400 non-null  float64\n",
      " 21  return_1m_t-5          351562 non-null  float64\n",
      " 22  return_1m_t-6          349724 non-null  float64\n",
      " 23  target_1m              358914 non-null  float64\n",
      " 24  target_2m              357076 non-null  float64\n",
      " 25  target_3m              355238 non-null  float64\n",
      " 26  target_6m              349724 non-null  float64\n",
      " 27  target_12m             338696 non-null  float64\n",
      " 28  year_2001              360752 non-null  bool   \n",
      " 29  year_2002              360752 non-null  bool   \n",
      " 30  year_2003              360752 non-null  bool   \n",
      " 31  year_2004              360752 non-null  bool   \n",
      " 32  year_2005              360752 non-null  bool   \n",
      " 33  year_2006              360752 non-null  bool   \n",
      " 34  year_2007              360752 non-null  bool   \n",
      " 35  year_2008              360752 non-null  bool   \n",
      " 36  year_2009              360752 non-null  bool   \n",
      " 37  year_2010              360752 non-null  bool   \n",
      " 38  year_2011              360752 non-null  bool   \n",
      " 39  year_2012              360752 non-null  bool   \n",
      " 40  year_2013              360752 non-null  bool   \n",
      " 41  year_2014              360752 non-null  bool   \n",
      " 42  year_2015              360752 non-null  bool   \n",
      " 43  year_2016              360752 non-null  bool   \n",
      " 44  year_2017              360752 non-null  bool   \n",
      " 45  year_2018              360752 non-null  bool   \n",
      " 46  month_1                360752 non-null  bool   \n",
      " 47  month_2                360752 non-null  bool   \n",
      " 48  month_3                360752 non-null  bool   \n",
      " 49  month_4                360752 non-null  bool   \n",
      " 50  month_5                360752 non-null  bool   \n",
      " 51  month_6                360752 non-null  bool   \n",
      " 52  month_7                360752 non-null  bool   \n",
      " 53  month_8                360752 non-null  bool   \n",
      " 54  month_9                360752 non-null  bool   \n",
      " 55  month_10               360752 non-null  bool   \n",
      " 56  month_11               360752 non-null  bool   \n",
      " 57  month_12               360752 non-null  bool   \n",
      " 58  msize_-1               360752 non-null  bool   \n",
      " 59  msize_1                360752 non-null  bool   \n",
      " 60  msize_2                360752 non-null  bool   \n",
      " 61  msize_3                360752 non-null  bool   \n",
      " 62  msize_4                360752 non-null  bool   \n",
      " 63  msize_5                360752 non-null  bool   \n",
      " 64  msize_6                360752 non-null  bool   \n",
      " 65  msize_7                360752 non-null  bool   \n",
      " 66  msize_8                360752 non-null  bool   \n",
      " 67  msize_9                360752 non-null  bool   \n",
      " 68  msize_10               360752 non-null  bool   \n",
      " 69  age_0                  360752 non-null  bool   \n",
      " 70  age_1                  360752 non-null  bool   \n",
      " 71  age_2                  360752 non-null  bool   \n",
      " 72  age_3                  360752 non-null  bool   \n",
      " 73  age_4                  360752 non-null  bool   \n",
      " 74  age_5                  360752 non-null  bool   \n",
      " 75  Basic Industries       360752 non-null  bool   \n",
      " 76  Capital Goods          360752 non-null  bool   \n",
      " 77  Consumer Durables      360752 non-null  bool   \n",
      " 78  Consumer Non-Durables  360752 non-null  bool   \n",
      " 79  Consumer Services      360752 non-null  bool   \n",
      " 80  Energy                 360752 non-null  bool   \n",
      " 81  Finance                360752 non-null  bool   \n",
      " 82  Health Care            360752 non-null  bool   \n",
      " 83  Miscellaneous          360752 non-null  bool   \n",
      " 84  Public Utilities       360752 non-null  bool   \n",
      " 85  Technology             360752 non-null  bool   \n",
      " 86  Transportation         360752 non-null  bool   \n",
      " 87  Unknown                360752 non-null  bool   \n",
      "dtypes: bool(60), float64(28)\n",
      "memory usage: 107.2+ MB\n"
     ]
    }
   ],
   "source": [
    "dummy_data = pd.get_dummies(data,\n",
    "                            columns=['year','month', 'msize', 'age',  'sector'],\n",
    "                            prefix=['year','month', 'msize', 'age', ''],\n",
    "                            prefix_sep=['_', '_', '_', '_', ''])\n",
    "dummy_data = dummy_data.rename(columns={c:c.replace('.0', '') for c in dummy_data.columns})\n",
    "dummy_data.info()"
   ]
  }
 ],
 "metadata": {
  "kernelspec": {
   "display_name": "Python 3",
   "language": "python",
   "name": "python3"
  },
  "language_info": {
   "codemirror_mode": {
    "name": "ipython",
    "version": 3
   },
   "file_extension": ".py",
   "mimetype": "text/x-python",
   "name": "python",
   "nbconvert_exporter": "python",
   "pygments_lexer": "ipython3",
   "version": "3.12.5"
  },
  "toc": {
   "base_numbering": 1,
   "nav_menu": {},
   "number_sections": true,
   "sideBar": true,
   "skip_h1_title": true,
   "title_cell": "Table of Contents",
   "title_sidebar": "Contents",
   "toc_cell": false,
   "toc_position": {
    "height": "calc(100% - 180px)",
    "left": "10px",
    "top": "150px",
    "width": "230.355px"
   },
   "toc_section_display": true,
   "toc_window_display": true
  }
 },
 "nbformat": 4,
 "nbformat_minor": 2
}
